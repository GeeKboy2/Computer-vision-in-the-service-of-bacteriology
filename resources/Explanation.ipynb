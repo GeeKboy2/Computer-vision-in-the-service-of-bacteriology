{
 "cells": [
  {
   "cell_type": "code",
   "execution_count": 2,
   "id": "694ab963",
   "metadata": {},
   "outputs": [],
   "source": [
    "import cv2\n",
    "import numpy as np\n",
    "import matplotlib.pyplot as plt\n",
    "from scipy.interpolate import interp1d"
   ]
  },
  {
   "cell_type": "markdown",
   "id": "54c9889b",
   "metadata": {},
   "source": [
    "# 1. Introduction-------------------------------------------------------------------------------------"
   ]
  },
  {
   "cell_type": "raw",
   "id": "e88ae339",
   "metadata": {},
   "source": [
    "The human is surrounded by many types of bacteria and the most popular are the baccili and the cocci which have a bat and round shape respectively.\n",
    "My research will be about the detection and clasification of these type sof bacteria in body liquids like the blood, urine, cerebrospinal fluid etc."
   ]
  },
  {
   "cell_type": "markdown",
   "id": "ac3049d2",
   "metadata": {},
   "source": [
    "# 2. Personal method------------------------------------------------------------------------------"
   ]
  },
  {
   "cell_type": "raw",
   "id": "c82af476",
   "metadata": {},
   "source": [
    "First i will be using a methode i found that uses the slopes to caracterise the outline of a bacteria, and  will found my classification of the graph that the slopes give me."
   ]
  },
  {
   "cell_type": "markdown",
   "id": "6c91b531",
   "metadata": {},
   "source": [
    "<div>\n",
    "<img src=\"lowrescircle.png\" width=\"150\"/>\n",
    "<img src=\"graphslopes.png\" width=\"500\"/>\n",
    "<img src=\"valueslopes.png\" width=\"300\"/>\n",
    "</div>"
   ]
  },
  {
   "cell_type": "code",
   "execution_count": 3,
   "id": "0464d0dc",
   "metadata": {},
   "outputs": [],
   "source": [
    "# This function will perform the previous slope calculation.\n",
    "\n",
    "def Pentes(contour, pas=1):\n",
    "   L = np.ones(0)\n",
    "   X=[]\n",
    "   Y=[]\n",
    "   for i in range(len(contour)):\n",
    "      X.append(contour[i][0][0])\n",
    "      Y.append(contour[i][0][1])\n",
    "   for i in range(0, len(contour), pas):\n",
    "      if contour[i][0][0] == contour[i - 1][0][0]:\n",
    "         if contour[i][0][1] - contour[i - 1][0][1]>0:\n",
    "            L = np.append(L, [500])\n",
    "         else:\n",
    "            L = np.append(L, [-500])\n",
    "      else:\n",
    "         L = np.append(L, [(contour[i][0][1] - contour[i - 1][0][1]) / (contour[i][0][0] - contour[i - 1][0][0])])\n",
    "   return L"
   ]
  },
  {
   "cell_type": "markdown",
   "id": "3e10b896",
   "metadata": {},
   "source": [
    "## 2.1.  Setup "
   ]
  },
  {
   "cell_type": "markdown",
   "id": "88ff736c",
   "metadata": {},
   "source": [
    "<div>\n",
    "<img src=\"lowresbac.png\" width=\"150\"/>\n",
    "</div>"
   ]
  },
  {
   "cell_type": "code",
   "execution_count": 4,
   "id": "a4a37d6c",
   "metadata": {},
   "outputs": [],
   "source": [
    "# The image is very small so we can't see it without scaling it up.\n",
    "# Thus the use of this function that keeps the proportions equal. (no image deformation) \n",
    "\n",
    "def Zoom(image,facteur):\n",
    "   x = int(image.shape[0] * facteur)\n",
    "   y = int(image.shape[1] * facteur)\n",
    "   return cv2.resize(image, (x, y))"
   ]
  },
  {
   "cell_type": "markdown",
   "id": "92d7d758",
   "metadata": {},
   "source": [
    "<div>\n",
    "<img src=\"test.png\" width=\"150\"/>\n",
    "<img src=\"test_gris.png\" width=\"150\"/>\n",
    "<img src=\"greymatrix.png\" width=\"300\"/>\n",
    "<img src=\"test_noir.png\" width=\"150\"/>\n",
    "<img src=\"binmatrix.png\" width=\"300\"/>\n",
    "</div>"
   ]
  },
  {
   "cell_type": "code",
   "execution_count": 5,
   "id": "a77109c8",
   "metadata": {},
   "outputs": [],
   "source": [
    "def Contours(img, valeur_seuillage=160):\n",
    "   image = cv2.imread(img, cv2.IMREAD_UNCHANGED)\n",
    "   image_gray = cv2.cvtColor(image, cv2.COLOR_BGR2GRAY)\n",
    "   image_black = cv2.threshold(image_gray, valeur_seuillage, 255, cv2.THRESH_BINARY)[1]\n",
    "   contours = cv2.findContours(image_black, cv2.RETR_TREE, cv2.CHAIN_APPROX_NONE)[0]\n",
    "   return contours"
   ]
  },
  {
   "cell_type": "markdown",
   "id": "c1c18c47",
   "metadata": {},
   "source": [
    "<div>\n",
    "<img src=\"outlineg.png\" width=\"200\"/>\n",
    "<img src=\"outlinepoints.png\" width=\"200\"/>\n",
    "<img src=\"graphslopes1.png\" width=\"300\"/>\n",
    "<img src=\"graphslopes.png\" width=\"300\"/>\n",
    "</div>"
   ]
  },
  {
   "cell_type": "raw",
   "id": "e77be8db",
   "metadata": {},
   "source": [
    "Here we luckly have the same number of points in the outline so we can use the mathematical difference to know the degree of resemblance."
   ]
  },
  {
   "cell_type": "markdown",
   "id": "7da8a2a3",
   "metadata": {},
   "source": [
    "<div>\n",
    "<img src=\"mathdif.png\" width=\"200\"/>\n",
    "</div>"
   ]
  },
  {
   "cell_type": "code",
   "execution_count": 6,
   "id": "ea62dbc4",
   "metadata": {},
   "outputs": [],
   "source": [
    "def diff(L, H):\n",
    "   S = 0\n",
    "   for i in range(len(L)):\n",
    "      S += abs(L[i] - H[i])\n",
    "   return S / len(L)"
   ]
  },
  {
   "cell_type": "markdown",
   "id": "1f3f90de",
   "metadata": {},
   "source": [
    "## 2.2. Improvement"
   ]
  },
  {
   "cell_type": "markdown",
   "id": "fa6a19bc",
   "metadata": {},
   "source": [
    "### 2.2.1 Perfect disc "
   ]
  },
  {
   "cell_type": "markdown",
   "id": "54c4e01f",
   "metadata": {},
   "source": [
    "<div>\n",
    "<img src=\"rond.png\" width=\"300\"/>\n",
    "</div>"
   ]
  },
  {
   "cell_type": "code",
   "execution_count": 7,
   "id": "e91c6043",
   "metadata": {},
   "outputs": [
    {
     "data": {
      "image/png": "[encoded data removed]",
      "text/plain": [
       "<Figure size 640x480 with 1 Axes>"
      ]
     },
     "metadata": {},
     "output_type": "display_data"
    }
   ],
   "source": [
    "Y1=Pentes(Contours(\"rond.png\",)[1])\n",
    "\n",
    "X1=np.arange(len(Y1))\n",
    "\n",
    "plt.plot(X1,Y1,\"r\")\n",
    "\n",
    "plt.show()\n",
    "\n",
    "cv2.waitKey(0)\n",
    "cv2.destroyAllWindows()"
   ]
  },
  {
   "cell_type": "markdown",
   "id": "00b47da5",
   "metadata": {},
   "source": [
    "### 2.2.2. Deformed disc"
   ]
  },
  {
   "cell_type": "markdown",
   "id": "27427d2b",
   "metadata": {},
   "source": [
    "<div>\n",
    "<img src=\"rond_defo.png\" width=\"300\"/>\n",
    "</div>"
   ]
  },
  {
   "cell_type": "code",
   "execution_count": null,
   "id": "ec0ed46b",
   "metadata": {},
   "outputs": [],
   "source": [
    "Y2=Pentes(Contours(\"rond_defo.png\",)[1])\n",
    "\n",
    "X2=np.arange(len(Y2))\n",
    "\n",
    "plt.plot(X2,Y2,'b')\n",
    "\n",
    "plt.show()\n",
    "\n",
    "cv2.waitKey(0)\n",
    "cv2.destroyAllWindows()"
   ]
  },
  {
   "cell_type": "markdown",
   "id": "ce2ed066",
   "metadata": {},
   "source": [
    "### 2.2.3. Blured disc"
   ]
  },
  {
   "cell_type": "markdown",
   "id": "a4834239",
   "metadata": {},
   "source": [
    "<div>\n",
    "<img src=\"rond_blur_light_texture.png\" width=\"300\"/>\n",
    "</div>"
   ]
  },
  {
   "cell_type": "code",
   "execution_count": null,
   "id": "6b8dd5c8",
   "metadata": {},
   "outputs": [],
   "source": [
    "Y3=Pentes(Contours(\"rond_blur_light_texture.png\",)[1])\n",
    "\n",
    "X3=np.arange(len(Y3))\n",
    "\n",
    "plt.plot(X3,Y3,'y')\n",
    "\n",
    "plt.show()\n",
    "\n",
    "cv2.waitKey(0)\n",
    "cv2.destroyAllWindows()"
   ]
  },
  {
   "cell_type": "code",
   "execution_count": null,
   "id": "d63b9d37",
   "metadata": {},
   "outputs": [],
   "source": [
    "Y1=Pentes(Contours(\"rond.png\",)[1])\n",
    "Y2=Pentes(Contours(\"rond_defo.png\",)[1])\n",
    "Y3=Pentes(Contours(\"rond_blur_light_texture.png\",)[1])\n",
    "\n",
    "X1=np.arange(len(Y1))\n",
    "X2=np.arange(len(Y2))\n",
    "X3=np.arange(len(Y3))\n",
    "\n",
    "plt.plot(X1,Y1,\"r\")\n",
    "plt.plot(X2,Y2,'b')\n",
    "plt.plot(X3,Y3,'y')\n",
    "\n",
    "plt.show()\n",
    "\n",
    "cv2.waitKey(0)\n",
    "cv2.destroyAllWindows()"
   ]
  },
  {
   "cell_type": "raw",
   "id": "98a740f2",
   "metadata": {},
   "source": [
    "Here the mathematical diference wont work so we will use a linear dilatation (stretch the shortest function to match the longest one).\n",
    "But there is one small problem we will face.\n",
    "In the exmaple below if we only stretch f2 we will only do a diference of 3 values which means we have lost a bit of precision by leaving the images f1(1) and f1(3).\n",
    "That is why we will be using linear interpolation as a first obvious solution."
   ]
  },
  {
   "cell_type": "markdown",
   "id": "da7d7834",
   "metadata": {},
   "source": [
    "<div>\n",
    "<img src=\"exdil.png\" width=\"300\"/>\n",
    "<img src=\"graphdil.png\" width=\"400\"/>\n",
    "</div>"
   ]
  },
  {
   "cell_type": "code",
   "execution_count": null,
   "id": "8a0962cc",
   "metadata": {},
   "outputs": [],
   "source": [
    "# By combining the stretch and the linear interpolation we have managed to solve the problem we faced earlier.\n",
    "Y1=Pentes(Contours(\"rond.png\",)[1])\n",
    "Y2=Pentes(Contours(\"rond_defo.png\",)[1])\n",
    "Y3=Pentes(Contours(\"rond_blur_light_texture.png\",)[1])\n",
    "\n",
    "X1=np.arange(len(Y1))\n",
    "X2=np.arange(len(Y2))\n",
    "X3=np.arange(len(Y3))\n",
    "\n",
    "y1=interp1d(X1,Y1,kind=\"linear\")\n",
    "y2=interp1d(X2,Y2,kind=\"linear\")\n",
    "y3=interp1d(X3,Y3,kind=\"linear\")\n",
    "\n",
    "l=max(len(Y1),len(Y2),len(Y3))\n",
    "\n",
    "X1=np.linspace(0,len(Y1)-1,l)\n",
    "X2=np.linspace(0,len(Y2)-1,l)\n",
    "X3=np.linspace(0,len(Y3)-1,l)\n",
    "\n",
    "new1=np.array([y1(x) for x in X1])\n",
    "new2=np.array([y2(x) for x in X2])\n",
    "new3=np.array([y3(x) for x in X3])\n",
    "\n",
    "X1=np.arange(0,l,l/len(Y1))\n",
    "X2=np.arange(0,l,l/len(Y2))\n",
    "X3=np.arange(0,l,l/len(Y3))\n",
    "\n",
    "plt.plot(X1,Y1,\"r\")\n",
    "plt.plot(X2,Y2,'b')\n",
    "plt.plot(X3,Y3,'y')\n",
    "\n",
    "plt.show()\n",
    "\n",
    "cv2.waitKey(0)\n",
    "cv2.destroyAllWindows()"
   ]
  },
  {
   "cell_type": "markdown",
   "id": "53ffd860",
   "metadata": {},
   "source": [
    "<div>\n",
    "<img src=\"difftab.png\" width=\"400\"/>\n",
    "</div>"
   ]
  },
  {
   "cell_type": "raw",
   "id": "864ae945",
   "metadata": {},
   "source": [
    "By appliying the difference we found that the algorithm isnt so precise.\n",
    "So we use a slidingAverage function."
   ]
  },
  {
   "cell_type": "markdown",
   "id": "eca509b0",
   "metadata": {},
   "source": [
    "<div>\n",
    "<img src=\"slidingav.png\" width=\"300\"/>\n",
    "</div>"
   ]
  },
  {
   "cell_type": "code",
   "execution_count": null,
   "id": "6c22effd",
   "metadata": {},
   "outputs": [],
   "source": [
    "def MoyGlissante(x, n):\n",
    "   if len(x) < n:\n",
    "      return str(n) + \"est une valeur invalide\"\n",
    "   L = np.ones(0)\n",
    "   s = 0\n",
    "   for i in range(len(x)):\n",
    "      if i < n - 1:\n",
    "         for j in range(i + 1):\n",
    "            s += x[j]\n",
    "         L = np.append(L, s / (i + 1))\n",
    "         s = 0\n",
    "      else:\n",
    "         for j in range(i - n - 1, i + 1):\n",
    "            s += x[j]\n",
    "         L = np.append(L, s / n)\n",
    "         s = 0\n",
    "   return L"
   ]
  },
  {
   "cell_type": "code",
   "execution_count": null,
   "id": "3bf4ab43",
   "metadata": {},
   "outputs": [],
   "source": [
    "Y1=MoyGlissante(Pentes(Contours(\"rond.png\",)[1]),50)\n",
    "Y2=MoyGlissante(Pentes(Contours(\"rond_defo.png\",)[1]),50)\n",
    "Y3=MoyGlissante(Pentes(Contours(\"rond_blur_light_texture.png\",)[1]),50)\n",
    "\n",
    "X1=np.arange(len(Y1))\n",
    "X2=np.arange(len(Y2))\n",
    "X3=np.arange(len(Y3))\n",
    "\n",
    "y1=interp1d(X1,Y1,kind=\"linear\")\n",
    "y2=interp1d(X2,Y2,kind=\"linear\")\n",
    "y3=interp1d(X3,Y3,kind=\"linear\")\n",
    "\n",
    "l=max(len(Y1),len(Y2),len(Y3))\n",
    "\n",
    "X1=np.linspace(0,len(Y1)-1,l)\n",
    "X2=np.linspace(0,len(Y2)-1,l)\n",
    "X3=np.linspace(0,len(Y3)-1,l)\n",
    "\n",
    "new1=np.array([y1(x) for x in X1])\n",
    "new2=np.array([y2(x) for x in X2])\n",
    "new3=np.array([y3(x) for x in X3])\n",
    "\n",
    "X1=np.arange(0,l,l/len(Y1))\n",
    "X2=np.arange(0,l,l/len(Y2))\n",
    "X3=np.arange(0,l,l/len(Y3))\n",
    "\n",
    "plt.plot(X1,Y1,\"r\")\n",
    "plt.plot(X2,Y2,'b')\n",
    "plt.plot(X3,Y3,'y')\n",
    "\n",
    "plt.show()\n",
    "\n",
    "cv2.waitKey(0)\n",
    "cv2.destroyAllWindows()"
   ]
  },
  {
   "cell_type": "markdown",
   "id": "8b098a39",
   "metadata": {},
   "source": [
    "<div>\n",
    "<img src=\"tableaudiff.png\" width=\"600\"/>\n",
    "</div>"
   ]
  },
  {
   "cell_type": "code",
   "execution_count": null,
   "id": "2353b742",
   "metadata": {},
   "outputs": [],
   "source": [
    "# Global test function.\n",
    "\n",
    "def detection_rond(img,valeur_seuillage=160,Moy=50):\n",
    "   contours = Contours(img,valeur_seuillage)\n",
    "   rond=0\n",
    "   Y1=np.ones(0)\n",
    "   print(\"Le nombre de contours trouvé est : \",len(contours))\n",
    "\n",
    "   for contour in contours :\n",
    "      Y1 = MoyGlissante(Pentes(Contours(\"rond_1.png\", valeur_seuillage)[1]), Moy)\n",
    "\n",
    "      Y3= MoyGlissante(Pentes(contour), Moy)\n",
    "      X1 = np.arange(len(Y1))\n",
    "\n",
    "      X3 = np.arange(len(Y3))\n",
    "      y3 = interp1d(X3, Y3, kind=\"linear\")\n",
    "      y1 = interp1d(X1, Y1, kind=\"linear\")\n",
    "\n",
    "      l = max(len(Y1), len(Y3))\n",
    "      X1 = np.linspace(0, len(Y1) - 1, l)\n",
    "\n",
    "      X3 = np.linspace(0, len(Y3) - 1, l)\n",
    "      new1 = np.array([y1(x) for x in X1])\n",
    "\n",
    "      new3 = np.array([y3(x) for x in X3])\n",
    "      #print(\"rond \",diff(new3, new1),)\n",
    "      if diff(new3,new1)<125:\n",
    "         rond+=1\n",
    "\n",
    "   print(\"Le nombre de cocci dans l'image donnée est : \",rond)\n",
    "   return rond\n",
    "\n",
    "def detection_baton(img,valeur_seuillage=160,Moy=50):\n",
    "   contours = Contours(img,valeur_seuillage)\n",
    "   baton=0\n",
    "   Y1=np.ones(0)\n",
    "   print(\"Le nombre de contours trouvé est : \",len(contours))\n",
    "\n",
    "   for contour in contours :\n",
    "      Y1 = MoyGlissante(Pentes(Contours(\"baton_hauriz.png\", valeur_seuillage)[1]), Moy)\n",
    "\n",
    "      Y3= MoyGlissante(Pentes(contour), Moy)\n",
    "      X1 = np.arange(len(Y1))\n",
    "\n",
    "      X3 = np.arange(len(Y3))\n",
    "      y3 = interp1d(X3, Y3, kind=\"linear\")\n",
    "      y1 = interp1d(X1, Y1, kind=\"linear\")\n",
    "\n",
    "      l = max(len(Y1), len(Y3))\n",
    "      X1 = np.linspace(0, len(Y1) - 1, l)\n",
    "\n",
    "      X3 = np.linspace(0, len(Y3) - 1, l)\n",
    "      new1 = np.array([y1(x) for x in X1])\n",
    "\n",
    "      new3 = np.array([y3(x) for x in X3])\n",
    "      #print(\"baton \",diff(new3, new1),)\n",
    "      if diff(new3,new1)<100:\n",
    "         baton+=1\n",
    "\n",
    "   print(\"Le nombre de baciles dans l'image donnée est : \", baton)\n",
    "   return baton\n",
    "\n",
    "\n",
    "detection_rond(\"Groupe_rond.png\")\n",
    "detection_baton(\"Groupe_rond.png\")\n",
    "\n",
    "# We have greatly improved the function but there is more we can do since this function only works for cocci \n",
    "# and doesn't works for bacilli and this is due to the problem of rotation."
   ]
  },
  {
   "cell_type": "code",
   "execution_count": null,
   "id": "29522bba",
   "metadata": {},
   "outputs": [],
   "source": [
    "# This is a part i started but didn't finish.\n",
    "def rotation(image,teta):\n",
    "    maxl = max(len(image),len(image[0]))\n",
    "    img=[[255]*maxl*5 for i in range(maxl*5)]\n",
    "\n",
    "    for i in range(maxl-1):\n",
    "        for j in range(maxl-1):\n",
    "            x = 0\n",
    "            y = 0\n",
    "            x=int(i*np.cos(teta)+j*np.sin(teta))\n",
    "            y=int(-i*np.sin(teta)+j*np.cos(teta))\n",
    "\n",
    "            try:\n",
    "                img[i][j] = image[x][y]\n",
    "            except:\n",
    "                pass\n",
    "    return img"
   ]
  },
  {
   "cell_type": "markdown",
   "id": "62e382bf",
   "metadata": {},
   "source": [
    "#  3. OpenCV"
   ]
  },
  {
   "cell_type": "markdown",
   "id": "46c3c32b",
   "metadata": {},
   "source": [
    "## 3.1 OpenCV with personal improvment"
   ]
  },
  {
   "cell_type": "code",
   "execution_count": null,
   "id": "bc784a65",
   "metadata": {},
   "outputs": [],
   "source": [
    "seuillage = 0.7\n",
    "image_globale = cv2.imread('Groupe_rond.png', cv2.IMREAD_UNCHANGED)\n",
    "image = cv2.imread('Rond_1.png', cv2.IMREAD_UNCHANGED)\n",
    "# cv2.matchTemplate permet de comparer deux images et renvoi un tableau\n",
    "# qui contient les valeur de degrée de resemblance (=image où chaque\n",
    "# pixel contient [0,1] plus c'est blanc (=1) plus ça resemble)\n",
    "result = cv2.matchTemplate(image_globale, image, cv2.TM_SQDIFF_NORMED)\n",
    "cv2.imshow('resultat',result)\n",
    "# np.where retourn toute les positions des pixels où le degrée de\n",
    "# resemblance est supérieure à la valeur seuillage\n",
    "positions = np.where(result >= seuillage)\n",
    "# La particularité de cette methode c'est qu'elle rend une liste qui contient\n",
    "# une liste des abssices et une liste des ordonnées [[y1...];[x1...]]\n",
    "position=[]\n",
    "for i in range(len(positions[0])):\n",
    "    position.append((positions[1][i], positions[0][i]))\n",
    "# Transforme la liste de listes en liste de couple (x,y)\n",
    "for pos in position:\n",
    "    cv2.drawMarker(image_globale, pos, (0, 255, 0), 2)\n",
    "#cv2.imshow('Matches', image_globale)\n",
    "\n",
    "def SupprimerRep(positions,e):\n",
    "    L=[]\n",
    "    for i in range(len(positions)):\n",
    "        if ((positions[i][1]-positions[i-1][1])**2)+((positions[i][1]-positions[i-1][1])**2)>e:\n",
    "            L.append(positions[i])\n",
    "    for l in L:\n",
    "        cv2.drawMarker(image_globale, l, (0, 255, 0), 10, None,5)\n",
    "    return L\n",
    "\n",
    "print(len(SupprimerRep(position, 1.9)))\n",
    "print(len(position))\n",
    "\n",
    "cv2.imshow('Matches', image_globale)\n",
    "cv2.waitKey(0)\n",
    "cv2.destroyAllWindows()"
   ]
  },
  {
   "cell_type": "markdown",
   "id": "26b76ad9",
   "metadata": {},
   "source": [
    "## 3.2 OpenCV with GroupRectangles "
   ]
  },
  {
   "cell_type": "code",
   "execution_count": null,
   "id": "0c37e3b4",
   "metadata": {},
   "outputs": [],
   "source": [
    "def detection(X,Y,seuillage=0.6,weight=0.5):\n",
    "  image_globale = cv2.imread(Y, cv2.IMREAD_UNCHANGED)\n",
    "  image = cv2.imread(X, cv2.IMREAD_UNCHANGED)\n",
    "  result = cv2.matchTemplate(image_globale, image, cv2.TM_SQDIFF_NORMED)\n",
    "  positions = np.where(result >= seuillage)\n",
    "  positions1 = []\n",
    "  for i in range(len(positions[0])):\n",
    "     positions1.append((positions[1][i], positions[0][i]))\n",
    "  largeur_image = image.shape[1]\n",
    "  hauteur_image = image.shape[0]\n",
    "  rectangles = []\n",
    "  for pos in positions1:\n",
    "    rect = [int(pos[0]), int(pos[1]), largeur_image, hauteur_image]\n",
    "    rectangles.append(rect)\n",
    "    rectangles.append(rect)\n",
    "  rectangles, weights = cv2.groupRectangles(rectangles,1, weight)\n",
    "  points = []\n",
    "  for (x, y, w, h) in rectangles:\n",
    "    points.append((x, y))\n",
    "    cv2.drawMarker(image_globale, (x, y),(255, 0, 255), 2,40, 2)\n",
    "  cv2.waitKey()\n",
    "  return len(points)\n",
    "x=np.linspace(0.6,1,20)\n",
    "for y in x:\n",
    "  print(detection(\"baton_hauriz.png\", \"Groupe_baton.png\",y))\n",
    "\n",
    "plt.show()"
   ]
  }
 ],
 "metadata": {
  "kernelspec": {
   "display_name": "Python 3 (ipykernel)",
   "language": "python",
   "name": "python3"
  },
  "language_info": {
   "codemirror_mode": {
    "name": "ipython",
    "version": 3
   },
   "file_extension": ".py",
   "mimetype": "text/x-python",
   "name": "python",
   "nbconvert_exporter": "python",
   "pygments_lexer": "ipython3",
   "version": "3.10.6"
  }
 },
 "nbformat": 4,
 "nbformat_minor": 5
}
